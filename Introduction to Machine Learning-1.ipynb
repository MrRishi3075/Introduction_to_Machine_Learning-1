{
 "cells": [
  {
   "cell_type": "markdown",
   "id": "50644f28-bb78-4818-99e6-544ba3035265",
   "metadata": {},
   "source": [
    "## Q1. Explain The Following With An Example:\n",
    "1. Artificial Intelligence\n",
    "2. Machine Learning\n",
    "3. Deep Learning\n"
   ]
  },
  {
   "cell_type": "markdown",
   "id": "6d2e7a87-848d-4039-bb25-141853fb9c74",
   "metadata": {},
   "source": [
    "* 1. Artificial Intelligence (AI): AI refers to the simulation of human intelligence in machines that are programmed to think and learn like humans. Example: Virtual personal assistants like Siri or Alexa.\n",
    "\n",
    "* 2. Machine Learning (ML): ML is a subset of AI that involves the development of algorithms allowing computers to learn patterns and make decisions based on data. Example: Spam email filtering.\n",
    "\n",
    "* 3. Deep Learning (DL): DL is a subfield of ML that focuses on neural networks with multiple layers (deep neural networks). Example: Image and speech recognition, as seen in applications like facial recognition."
   ]
  },
  {
   "cell_type": "markdown",
   "id": "8c11a6bb-7717-4a37-a6d9-e091943eb453",
   "metadata": {},
   "source": [
    "## Q2. What is Supervised Learning? List some Examples of supervised Learning.\n"
   ]
  },
  {
   "cell_type": "markdown",
   "id": "812a687c-409a-47c0-adcf-c0b00a90dd7e",
   "metadata": {},
   "source": [
    "### Supervised Learning: It involves training a model on a labeled dataset, where the algorithm learns from input-output pairs.\n",
    "\n",
    "#### Examples:\n",
    "\n",
    "* Linear Regression: Predicting house prices based on features.\n",
    "* Classification algorithms like Support Vector Machines (SVM) for spam detection."
   ]
  },
  {
   "cell_type": "markdown",
   "id": "d7125c8d-c062-4b86-ab61-74641a7d7cbb",
   "metadata": {},
   "source": [
    "## Q3. What is unSupervised Learning? List some Examples of Unsupervised Learning.\n"
   ]
  },
  {
   "cell_type": "markdown",
   "id": "9678022b-2079-48c2-a7e7-cdd4b91b0f81",
   "metadata": {},
   "source": [
    "#### Unsupervised Learning: It involves training a model on an unlabeled dataset, and the algorithm tries to learn the patterns and the structure from the data without explicit guidance.\n",
    "\n",
    "##### Examples:\n",
    "\n",
    "* Clustering algorithms like K-means for grouping similar data points.\n",
    "* Principal Component Analysis (PCA) for dimensionality reduction."
   ]
  },
  {
   "cell_type": "markdown",
   "id": "71429ea5-b8d4-4dfc-9f2f-35deb166ed80",
   "metadata": {},
   "source": [
    "## Q4. What is The Difference Between  AI, ML, DL, and DS?\n",
    "\n"
   ]
  },
  {
   "cell_type": "markdown",
   "id": "ae302951-9303-4428-bf2d-d73cdffb012a",
   "metadata": {},
   "source": [
    "#### * AI (Artificial Intelligence): The broad concept of machines simulating human intelligence.\n",
    "\n",
    "#### * ML (Machine Learning): A subset of AI where systems learn from data.\n",
    "\n",
    "#### * DL (Deep Learning): A subset of ML using neural networks with multiple layers.\n",
    "\n",
    "#### * DS (Data Science): The field that encompasses AI, ML, and other techniques for extracting insights from data."
   ]
  },
  {
   "cell_type": "markdown",
   "id": "c179203a-3515-40f2-b725-da3cfaa6e9f4",
   "metadata": {},
   "source": [
    "## Q5. What are the main Difference Between supervised , Unsupervised And Semi-Supervised Learning?\n"
   ]
  },
  {
   "cell_type": "markdown",
   "id": "6086d354-e00a-4b40-ad1e-c59f3353ab65",
   "metadata": {},
   "source": [
    "#### Supervised Learning: Requires labeled data for training, where the algorithm learns the mapping from input to output.\n",
    "\n",
    "#### Unsupervised Learning: Involves unlabeled data, and the algorithm discovers patterns and relationships within the data.\n",
    "\n",
    "#### Semi-Supervised Learning: Combines both labeled and unlabeled data during training. The model partially learns from labeled examples and generalizes from unlabeled examples."
   ]
  },
  {
   "cell_type": "markdown",
   "id": "92127027-841d-4208-98ef-b09960b258b1",
   "metadata": {},
   "source": [
    "## Q6. What is train, test and validation split? Explain The importance of Each term.\n"
   ]
  },
  {
   "cell_type": "markdown",
   "id": "60c86e21-2349-461e-bee4-7235ec2375dc",
   "metadata": {},
   "source": [
    "#### Train, Test, Validation Split:\n",
    "##### In machine learning, data is typically divided into three sets:\n",
    "\n",
    "* Training Set: Used to train the model.\n",
    "* Validation Set: Used to fine-tune the model's parameters and avoid overfitting.\n",
    "* Test Set: Used to evaluate the model's performance on unseen data.\n",
    "\n",
    "##### Importance:\n",
    "\n",
    "* Training Set: Teaches the model patterns in the data.\n",
    "* Validation Set: Assists in tuning hyperparameters and preventing overfitting.\n",
    "* Test Set: Evaluates the model's generalization to new, unseen data."
   ]
  },
  {
   "cell_type": "markdown",
   "id": "c8031992-f57a-49e7-ad7e-13a7d755dcfe",
   "metadata": {},
   "source": [
    "## Q7. How can Unsupervised Learning  be used in anomaly detection?\n"
   ]
  },
  {
   "cell_type": "markdown",
   "id": "d5c32bc1-0ed4-4491-849e-b5bf0ffcf2cc",
   "metadata": {},
   "source": [
    "#### Unsupervised learning can identify anomalies by learning the normal patterns in the data. Anomalies are instances that deviate significantly from these learned patterns. Clustering algorithms or density-based methods can be employed to detect data points that do not conform to the majority."
   ]
  },
  {
   "cell_type": "markdown",
   "id": "cd5f7e31-9a4c-4dc7-941c-2c91bbe9f7b2",
   "metadata": {},
   "source": [
    "### Example:-\n",
    "#### Scenario: Credit Card Fraud Detection\n",
    "\n",
    "##### Imagine you have a dataset of credit card transactions, where the majority of transactions are legitimate, but there might be a few instances of fraudulent activities. Here, Unsupervised Learning can be applied to detect anomalies.\n",
    "\n",
    "#### Approach:\n",
    "\n",
    "##### Data Preparation:\n",
    "\n",
    "* The dataset contains features such as transaction amount, location, time, etc.\n",
    "\n",
    "#### Unsupervised Learning Algorithm:\n",
    "\n",
    "* Use a clustering algorithm, such as K-means clustering, to group the transactions into clusters based on their features. The algorithm learns the normal patterns in the data without being explicitly trained on fraud or non-fraud labels.\n",
    "\n",
    "##### Identification of Anomalies:\n",
    "\n",
    "* After clustering, transactions in clusters that deviate significantly from the majority can be considered potential anomalies. These could represent unusual patterns that might indicate fraudulent activity.\n",
    "\n",
    "##### Threshold Setting:\n",
    "\n",
    "* Set a threshold to distinguish between normal and anomalous clusters. Transactions falling outside this threshold are flagged as potential fraud.\n",
    "\n",
    "##### Evaluation:\n",
    "\n",
    "* Evaluate the model's performance using a validation set or historical data with known outcomes to fine-tune the threshold and ensure effective anomaly detection.\n",
    "\n",
    "##### Deployment:\n",
    "\n",
    "###### Once satisfied with the model's performance, deploy it to monitor new transactions in real-time. Any transactions classified as anomalies would then be subject to further investigation or additional security measures.\n",
    "\n",
    "* In this example, Unsupervised Learning helps identify patterns of normal behavior in credit card transactions without relying on labeled fraudulent data. It's an effective approach when the occurrence of anomalies is rare and not well-represented in the dataset."
   ]
  },
  {
   "cell_type": "markdown",
   "id": "56499d9a-bf2f-44d4-be9a-d77c744e7e2c",
   "metadata": {},
   "source": [
    "## Q8. List down some commonly used Supervised Learning algorithms and unSupervised Learning algorithms."
   ]
  },
  {
   "cell_type": "markdown",
   "id": "0488eb5c-526f-4e63-96c3-1ce9a923f172",
   "metadata": {},
   "source": [
    "##### Supervised Learning Algorithms:\n",
    "\n",
    "* Linear Regression\n",
    "* Support Vector Machines (SVM)\n",
    "* Decision Trees\n",
    "* Random Forest\n",
    "* Neural Networks\n",
    "\n",
    "##### Unsupervised Learning Algorithms:\n",
    "\n",
    "* K-means Clustering\n",
    "* Hierarchical Clustering\n",
    "* Principal Component Analysis (PCA)\n",
    "* t-Distributed Stochastic Neighbor Embedding (t-SNE)\n"
   ]
  },
  {
   "cell_type": "code",
   "execution_count": null,
   "id": "3d21c347-70d4-4e96-869e-4693fdf1137a",
   "metadata": {},
   "outputs": [],
   "source": []
  }
 ],
 "metadata": {
  "kernelspec": {
   "display_name": "Python 3 (ipykernel)",
   "language": "python",
   "name": "python3"
  },
  "language_info": {
   "codemirror_mode": {
    "name": "ipython",
    "version": 3
   },
   "file_extension": ".py",
   "mimetype": "text/x-python",
   "name": "python",
   "nbconvert_exporter": "python",
   "pygments_lexer": "ipython3",
   "version": "3.10.8"
  }
 },
 "nbformat": 4,
 "nbformat_minor": 5
}
